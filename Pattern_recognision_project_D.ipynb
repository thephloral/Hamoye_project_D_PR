{
 "cells": [
  {
   "cell_type": "markdown",
   "id": "70b58d52",
   "metadata": {},
   "source": [
    "# Project description\n",
    "\n",
    "> This is a project that tells a story on how the world food shortage problem can be solved using appropriate visuals.\n",
    "\n",
    "#### Imprtant questions to answer\n",
    "\n",
    "> Trends in food production and consumption over the years.\n",
    "\n",
    ">Average and median food production, the outliers, Quartile and interquartile ranges.\n",
    "\n",
    ">A comparison between average food consumption and production for each year.\n"
   ]
  },
  {
   "cell_type": "markdown",
   "id": "bea157f6",
   "metadata": {},
   "source": [
    "### Steps taken\n",
    "\n",
    "> Import libraries\n",
    "\n",
    "> Import the dataset\n",
    "\n",
    "> Perform the EDA\n",
    "\n",
    "> Answer the relevant question"
   ]
  },
  {
   "cell_type": "code",
   "execution_count": 1,
   "id": "8741103f",
   "metadata": {},
   "outputs": [],
   "source": [
    "# import the libraries\n",
    "import numpy as np\n",
    "import pandas as pd\n",
    "import seaborn as sb\n",
    "import matplotlib.pyplot as plt\n",
    "import warnings\n",
    "warnings.filterwarnings('ignore')\n",
    "%matplotlib inline"
   ]
  },
  {
   "cell_type": "code",
   "execution_count": 2,
   "id": "b5550207",
   "metadata": {},
   "outputs": [
    {
     "data": {
      "text/html": [
       "<div>\n",
       "<style scoped>\n",
       "    .dataframe tbody tr th:only-of-type {\n",
       "        vertical-align: middle;\n",
       "    }\n",
       "\n",
       "    .dataframe tbody tr th {\n",
       "        vertical-align: top;\n",
       "    }\n",
       "\n",
       "    .dataframe thead th {\n",
       "        text-align: right;\n",
       "    }\n",
       "</style>\n",
       "<table border=\"1\" class=\"dataframe\">\n",
       "  <thead>\n",
       "    <tr style=\"text-align: right;\">\n",
       "      <th></th>\n",
       "      <th>Country</th>\n",
       "      <th>Item</th>\n",
       "      <th>Year</th>\n",
       "      <th>Value</th>\n",
       "    </tr>\n",
       "  </thead>\n",
       "  <tbody>\n",
       "    <tr>\n",
       "      <th>0</th>\n",
       "      <td>Algeria</td>\n",
       "      <td>Wheat and products</td>\n",
       "      <td>2004</td>\n",
       "      <td>2731</td>\n",
       "    </tr>\n",
       "    <tr>\n",
       "      <th>1</th>\n",
       "      <td>Algeria</td>\n",
       "      <td>Wheat and products</td>\n",
       "      <td>2005</td>\n",
       "      <td>2415</td>\n",
       "    </tr>\n",
       "    <tr>\n",
       "      <th>2</th>\n",
       "      <td>Algeria</td>\n",
       "      <td>Wheat and products</td>\n",
       "      <td>2006</td>\n",
       "      <td>2688</td>\n",
       "    </tr>\n",
       "  </tbody>\n",
       "</table>\n",
       "</div>"
      ],
      "text/plain": [
       "   Country                Item  Year  Value\n",
       "0  Algeria  Wheat and products  2004   2731\n",
       "1  Algeria  Wheat and products  2005   2415\n",
       "2  Algeria  Wheat and products  2006   2688"
      ]
     },
     "execution_count": 2,
     "metadata": {},
     "output_type": "execute_result"
    }
   ],
   "source": [
    "# import production dataset\n",
    "prod_df = pd.read_csv('Africa_Food_Production.csv')\n",
    "prod_df.head(3)"
   ]
  },
  {
   "cell_type": "code",
   "execution_count": 3,
   "id": "02cd8593",
   "metadata": {},
   "outputs": [
    {
     "data": {
      "text/html": [
       "<div>\n",
       "<style scoped>\n",
       "    .dataframe tbody tr th:only-of-type {\n",
       "        vertical-align: middle;\n",
       "    }\n",
       "\n",
       "    .dataframe tbody tr th {\n",
       "        vertical-align: top;\n",
       "    }\n",
       "\n",
       "    .dataframe thead th {\n",
       "        text-align: right;\n",
       "    }\n",
       "</style>\n",
       "<table border=\"1\" class=\"dataframe\">\n",
       "  <thead>\n",
       "    <tr style=\"text-align: right;\">\n",
       "      <th></th>\n",
       "      <th>Country</th>\n",
       "      <th>Year</th>\n",
       "      <th>Value</th>\n",
       "    </tr>\n",
       "  </thead>\n",
       "  <tbody>\n",
       "    <tr>\n",
       "      <th>0</th>\n",
       "      <td>Algeria</td>\n",
       "      <td>2004</td>\n",
       "      <td>2987</td>\n",
       "    </tr>\n",
       "    <tr>\n",
       "      <th>1</th>\n",
       "      <td>Algeria</td>\n",
       "      <td>2005</td>\n",
       "      <td>2958</td>\n",
       "    </tr>\n",
       "    <tr>\n",
       "      <th>2</th>\n",
       "      <td>Algeria</td>\n",
       "      <td>2006</td>\n",
       "      <td>3047</td>\n",
       "    </tr>\n",
       "  </tbody>\n",
       "</table>\n",
       "</div>"
      ],
      "text/plain": [
       "   Country  Year  Value\n",
       "0  Algeria  2004   2987\n",
       "1  Algeria  2005   2958\n",
       "2  Algeria  2006   3047"
      ]
     },
     "execution_count": 3,
     "metadata": {},
     "output_type": "execute_result"
    }
   ],
   "source": [
    "# import supply dataset\n",
    "supply_df = pd.read_csv('Africa Food Supply (2004 - 2013).csv')\n",
    "supply_df.head(3)"
   ]
  },
  {
   "cell_type": "code",
   "execution_count": 4,
   "id": "ce2fc05d",
   "metadata": {},
   "outputs": [
    {
     "name": "stdout",
     "output_type": "stream",
     "text": [
      "(23110, 4)\n",
      "(450, 3)\n"
     ]
    }
   ],
   "source": [
    "# print the shape for both dataset\n",
    "print(prod_df.shape)\n",
    "print(supply_df.shape)"
   ]
  },
  {
   "cell_type": "code",
   "execution_count": 5,
   "id": "f8ac7d48",
   "metadata": {},
   "outputs": [
    {
     "data": {
      "text/plain": [
       "Country    object\n",
       "Item       object\n",
       "Year        int64\n",
       "Value       int64\n",
       "dtype: object"
      ]
     },
     "execution_count": 5,
     "metadata": {},
     "output_type": "execute_result"
    }
   ],
   "source": [
    "# check the production datatype \n",
    "prod_df.dtypes"
   ]
  },
  {
   "cell_type": "code",
   "execution_count": 6,
   "id": "841bf9a4",
   "metadata": {},
   "outputs": [
    {
     "data": {
      "text/plain": [
       "Country    object\n",
       "Year        int64\n",
       "Value       int64\n",
       "dtype: object"
      ]
     },
     "execution_count": 6,
     "metadata": {},
     "output_type": "execute_result"
    }
   ],
   "source": [
    "# check the supply datatype \n",
    "supply_df.dtypes"
   ]
  },
  {
   "cell_type": "code",
   "execution_count": 7,
   "id": "1de640b9",
   "metadata": {},
   "outputs": [
    {
     "data": {
      "text/plain": [
       "Country    0\n",
       "Item       0\n",
       "Year       0\n",
       "Value      0\n",
       "dtype: int64"
      ]
     },
     "execution_count": 7,
     "metadata": {},
     "output_type": "execute_result"
    }
   ],
   "source": [
    "# check the missing value for production\n",
    "prod_df.isnull().sum()"
   ]
  },
  {
   "cell_type": "code",
   "execution_count": 8,
   "id": "c17eaf93",
   "metadata": {},
   "outputs": [
    {
     "data": {
      "text/plain": [
       "Country    0\n",
       "Year       0\n",
       "Value      0\n",
       "dtype: int64"
      ]
     },
     "execution_count": 8,
     "metadata": {},
     "output_type": "execute_result"
    }
   ],
   "source": [
    "# check the missing value for supply\n",
    "supply_df.isnull().sum()"
   ]
  },
  {
   "cell_type": "code",
   "execution_count": 9,
   "id": "ab929478",
   "metadata": {},
   "outputs": [
    {
     "data": {
      "text/html": [
       "<div>\n",
       "<style scoped>\n",
       "    .dataframe tbody tr th:only-of-type {\n",
       "        vertical-align: middle;\n",
       "    }\n",
       "\n",
       "    .dataframe tbody tr th {\n",
       "        vertical-align: top;\n",
       "    }\n",
       "\n",
       "    .dataframe thead th {\n",
       "        text-align: right;\n",
       "    }\n",
       "</style>\n",
       "<table border=\"1\" class=\"dataframe\">\n",
       "  <thead>\n",
       "    <tr style=\"text-align: right;\">\n",
       "      <th></th>\n",
       "      <th>Country</th>\n",
       "      <th>Year</th>\n",
       "      <th>Value</th>\n",
       "    </tr>\n",
       "  </thead>\n",
       "  <tbody>\n",
       "    <tr>\n",
       "      <th>0</th>\n",
       "      <td>Algeria</td>\n",
       "      <td>2004</td>\n",
       "      <td>15536</td>\n",
       "    </tr>\n",
       "    <tr>\n",
       "      <th>1</th>\n",
       "      <td>Algeria</td>\n",
       "      <td>2005</td>\n",
       "      <td>15667</td>\n",
       "    </tr>\n",
       "    <tr>\n",
       "      <th>2</th>\n",
       "      <td>Algeria</td>\n",
       "      <td>2006</td>\n",
       "      <td>16417</td>\n",
       "    </tr>\n",
       "    <tr>\n",
       "      <th>3</th>\n",
       "      <td>Algeria</td>\n",
       "      <td>2007</td>\n",
       "      <td>14763</td>\n",
       "    </tr>\n",
       "    <tr>\n",
       "      <th>4</th>\n",
       "      <td>Algeria</td>\n",
       "      <td>2008</td>\n",
       "      <td>13841</td>\n",
       "    </tr>\n",
       "    <tr>\n",
       "      <th>...</th>\n",
       "      <td>...</td>\n",
       "      <td>...</td>\n",
       "      <td>...</td>\n",
       "    </tr>\n",
       "    <tr>\n",
       "      <th>445</th>\n",
       "      <td>Zimbabwe</td>\n",
       "      <td>2009</td>\n",
       "      <td>5754</td>\n",
       "    </tr>\n",
       "    <tr>\n",
       "      <th>446</th>\n",
       "      <td>Zimbabwe</td>\n",
       "      <td>2010</td>\n",
       "      <td>6777</td>\n",
       "    </tr>\n",
       "    <tr>\n",
       "      <th>447</th>\n",
       "      <td>Zimbabwe</td>\n",
       "      <td>2011</td>\n",
       "      <td>7551</td>\n",
       "    </tr>\n",
       "    <tr>\n",
       "      <th>448</th>\n",
       "      <td>Zimbabwe</td>\n",
       "      <td>2012</td>\n",
       "      <td>8173</td>\n",
       "    </tr>\n",
       "    <tr>\n",
       "      <th>449</th>\n",
       "      <td>Zimbabwe</td>\n",
       "      <td>2013</td>\n",
       "      <td>7914</td>\n",
       "    </tr>\n",
       "  </tbody>\n",
       "</table>\n",
       "<p>450 rows × 3 columns</p>\n",
       "</div>"
      ],
      "text/plain": [
       "      Country  Year  Value\n",
       "0     Algeria  2004  15536\n",
       "1     Algeria  2005  15667\n",
       "2     Algeria  2006  16417\n",
       "3     Algeria  2007  14763\n",
       "4     Algeria  2008  13841\n",
       "..        ...   ...    ...\n",
       "445  Zimbabwe  2009   5754\n",
       "446  Zimbabwe  2010   6777\n",
       "447  Zimbabwe  2011   7551\n",
       "448  Zimbabwe  2012   8173\n",
       "449  Zimbabwe  2013   7914\n",
       "\n",
       "[450 rows x 3 columns]"
      ]
     },
     "execution_count": 9,
     "metadata": {},
     "output_type": "execute_result"
    }
   ],
   "source": [
    "# groupby the country, year and value\n",
    "prod = pd.DataFrame(prod_df.groupby(['Country', 'Year'])['Value'].sum()).reset_index()\n",
    "prod"
   ]
  },
  {
   "cell_type": "code",
   "execution_count": 10,
   "id": "4e40c85d",
   "metadata": {},
   "outputs": [
    {
     "data": {
      "text/html": [
       "<div>\n",
       "<style scoped>\n",
       "    .dataframe tbody tr th:only-of-type {\n",
       "        vertical-align: middle;\n",
       "    }\n",
       "\n",
       "    .dataframe tbody tr th {\n",
       "        vertical-align: top;\n",
       "    }\n",
       "\n",
       "    .dataframe thead th {\n",
       "        text-align: right;\n",
       "    }\n",
       "</style>\n",
       "<table border=\"1\" class=\"dataframe\">\n",
       "  <thead>\n",
       "    <tr style=\"text-align: right;\">\n",
       "      <th></th>\n",
       "      <th>Country</th>\n",
       "      <th>Year</th>\n",
       "      <th>Value</th>\n",
       "    </tr>\n",
       "  </thead>\n",
       "  <tbody>\n",
       "    <tr>\n",
       "      <th>0</th>\n",
       "      <td>Algeria</td>\n",
       "      <td>2004</td>\n",
       "      <td>2987</td>\n",
       "    </tr>\n",
       "    <tr>\n",
       "      <th>1</th>\n",
       "      <td>Algeria</td>\n",
       "      <td>2005</td>\n",
       "      <td>2958</td>\n",
       "    </tr>\n",
       "    <tr>\n",
       "      <th>2</th>\n",
       "      <td>Algeria</td>\n",
       "      <td>2006</td>\n",
       "      <td>3047</td>\n",
       "    </tr>\n",
       "    <tr>\n",
       "      <th>3</th>\n",
       "      <td>Algeria</td>\n",
       "      <td>2007</td>\n",
       "      <td>3041</td>\n",
       "    </tr>\n",
       "    <tr>\n",
       "      <th>4</th>\n",
       "      <td>Algeria</td>\n",
       "      <td>2008</td>\n",
       "      <td>3048</td>\n",
       "    </tr>\n",
       "    <tr>\n",
       "      <th>...</th>\n",
       "      <td>...</td>\n",
       "      <td>...</td>\n",
       "      <td>...</td>\n",
       "    </tr>\n",
       "    <tr>\n",
       "      <th>445</th>\n",
       "      <td>Zimbabwe</td>\n",
       "      <td>2009</td>\n",
       "      <td>2147</td>\n",
       "    </tr>\n",
       "    <tr>\n",
       "      <th>446</th>\n",
       "      <td>Zimbabwe</td>\n",
       "      <td>2010</td>\n",
       "      <td>2168</td>\n",
       "    </tr>\n",
       "    <tr>\n",
       "      <th>447</th>\n",
       "      <td>Zimbabwe</td>\n",
       "      <td>2011</td>\n",
       "      <td>2200</td>\n",
       "    </tr>\n",
       "    <tr>\n",
       "      <th>448</th>\n",
       "      <td>Zimbabwe</td>\n",
       "      <td>2012</td>\n",
       "      <td>2197</td>\n",
       "    </tr>\n",
       "    <tr>\n",
       "      <th>449</th>\n",
       "      <td>Zimbabwe</td>\n",
       "      <td>2013</td>\n",
       "      <td>2110</td>\n",
       "    </tr>\n",
       "  </tbody>\n",
       "</table>\n",
       "<p>450 rows × 3 columns</p>\n",
       "</div>"
      ],
      "text/plain": [
       "      Country  Year  Value\n",
       "0     Algeria  2004   2987\n",
       "1     Algeria  2005   2958\n",
       "2     Algeria  2006   3047\n",
       "3     Algeria  2007   3041\n",
       "4     Algeria  2008   3048\n",
       "..        ...   ...    ...\n",
       "445  Zimbabwe  2009   2147\n",
       "446  Zimbabwe  2010   2168\n",
       "447  Zimbabwe  2011   2200\n",
       "448  Zimbabwe  2012   2197\n",
       "449  Zimbabwe  2013   2110\n",
       "\n",
       "[450 rows x 3 columns]"
      ]
     },
     "execution_count": 10,
     "metadata": {},
     "output_type": "execute_result"
    }
   ],
   "source": [
    "# groupby the country, year, value\n",
    "supply = pd.DataFrame(supply_df.groupby(['Country', 'Year'])['Value'].sum()).reset_index()\n",
    "supply"
   ]
  },
  {
   "cell_type": "markdown",
   "id": "0f1b2ed2",
   "metadata": {},
   "source": [
    "## Data Exploration\n",
    "\n",
    "> Trends in food production over the years"
   ]
  },
  {
   "cell_type": "code",
   "execution_count": 11,
   "id": "70ffe266",
   "metadata": {},
   "outputs": [],
   "source": [
    "# default color of visualization\n",
    "base_color = sb.color_palette()[0]"
   ]
  },
  {
   "cell_type": "code",
   "execution_count": 12,
   "id": "89bdb6d7",
   "metadata": {},
   "outputs": [
    {
     "data": {
      "text/plain": [
       "Year\n",
       "2004    286.767301\n",
       "2005    298.986592\n",
       "2006    310.814014\n",
       "2007    305.215830\n",
       "2008    318.686851\n",
       "2009    323.040657\n",
       "2010    340.166955\n",
       "2011    351.303633\n",
       "2012    364.831816\n",
       "2013    378.227568\n",
       "Name: Value, dtype: float64"
      ]
     },
     "execution_count": 12,
     "metadata": {},
     "output_type": "execute_result"
    }
   ],
   "source": [
    "#average production value by year\n",
    "prod_df.groupby('Year')['Value'].mean()"
   ]
  },
  {
   "cell_type": "code",
   "execution_count": 13,
   "id": "a1393894",
   "metadata": {},
   "outputs": [
    {
     "data": {
      "image/png": "[encoded data removed]",
      "text/plain": [
       "<Figure size 1080x504 with 1 Axes>"
      ]
     },
     "metadata": {
      "needs_background": "light"
     },
     "output_type": "display_data"
    }
   ],
   "source": [
    "#plotting line chart to show trends over the years\n",
    "fig= plt.figure(figsize=(15, 7))\n",
    "plt.plot(prod_df.groupby('Year')['Value'].mean(), marker='o', color=base_color)\n",
    "plt.title('Average Food Production by Year', fontsize = 20, fontweight = 'bold')\n",
    "plt.xlabel('Year', fontsize = 10, fontweight = 'bold')\n",
    "plt.ylabel('Value', fontsize = 10, fontweight = 'bold')\n",
    "plt.grid()\n",
    "plt.show();\n",
    "#fig.savefig('food prod by year.jpg')"
   ]
  },
  {
   "cell_type": "code",
   "execution_count": 14,
   "id": "e1ae6f29",
   "metadata": {},
   "outputs": [
    {
     "data": {
      "text/plain": [
       "Year\n",
       "2004    16.0\n",
       "2005    16.0\n",
       "2006    17.0\n",
       "2007    17.0\n",
       "2008    18.0\n",
       "2009    18.0\n",
       "2010    20.0\n",
       "2011    21.0\n",
       "2012    21.0\n",
       "2013    22.0\n",
       "Name: Value, dtype: float64"
      ]
     },
     "execution_count": 14,
     "metadata": {},
     "output_type": "execute_result"
    }
   ],
   "source": [
    "#Median food production by year\n",
    "prod_df.groupby('Year')['Value'].median()"
   ]
  },
  {
   "cell_type": "code",
   "execution_count": 15,
   "id": "f92c41f6",
   "metadata": {},
   "outputs": [
    {
     "data": {
      "text/html": [
       "<div>\n",
       "<style scoped>\n",
       "    .dataframe tbody tr th:only-of-type {\n",
       "        vertical-align: middle;\n",
       "    }\n",
       "\n",
       "    .dataframe tbody tr th {\n",
       "        vertical-align: top;\n",
       "    }\n",
       "\n",
       "    .dataframe thead th {\n",
       "        text-align: right;\n",
       "    }\n",
       "</style>\n",
       "<table border=\"1\" class=\"dataframe\">\n",
       "  <thead>\n",
       "    <tr style=\"text-align: right;\">\n",
       "      <th></th>\n",
       "      <th>Country</th>\n",
       "      <th>Value</th>\n",
       "    </tr>\n",
       "  </thead>\n",
       "  <tbody>\n",
       "    <tr>\n",
       "      <th>0</th>\n",
       "      <td>Algeria</td>\n",
       "      <td>325.258621</td>\n",
       "    </tr>\n",
       "    <tr>\n",
       "      <th>1</th>\n",
       "      <td>Angola</td>\n",
       "      <td>362.035185</td>\n",
       "    </tr>\n",
       "    <tr>\n",
       "      <th>2</th>\n",
       "      <td>Benin</td>\n",
       "      <td>149.274576</td>\n",
       "    </tr>\n",
       "    <tr>\n",
       "      <th>3</th>\n",
       "      <td>Botswana</td>\n",
       "      <td>14.141176</td>\n",
       "    </tr>\n",
       "    <tr>\n",
       "      <th>4</th>\n",
       "      <td>Burkina Faso</td>\n",
       "      <td>232.858140</td>\n",
       "    </tr>\n",
       "    <tr>\n",
       "      <th>5</th>\n",
       "      <td>Cabo Verde</td>\n",
       "      <td>5.024242</td>\n",
       "    </tr>\n",
       "    <tr>\n",
       "      <th>6</th>\n",
       "      <td>Cameroon</td>\n",
       "      <td>304.107692</td>\n",
       "    </tr>\n",
       "    <tr>\n",
       "      <th>7</th>\n",
       "      <td>Central African Republic</td>\n",
       "      <td>55.380000</td>\n",
       "    </tr>\n",
       "    <tr>\n",
       "      <th>8</th>\n",
       "      <td>Chad</td>\n",
       "      <td>115.584615</td>\n",
       "    </tr>\n",
       "    <tr>\n",
       "      <th>9</th>\n",
       "      <td>Congo</td>\n",
       "      <td>51.582000</td>\n",
       "    </tr>\n",
       "    <tr>\n",
       "      <th>10</th>\n",
       "      <td>Cote d'Ivoire</td>\n",
       "      <td>285.134375</td>\n",
       "    </tr>\n",
       "    <tr>\n",
       "      <th>11</th>\n",
       "      <td>Djibouti</td>\n",
       "      <td>3.027273</td>\n",
       "    </tr>\n",
       "    <tr>\n",
       "      <th>12</th>\n",
       "      <td>Egypt</td>\n",
       "      <td>1253.568571</td>\n",
       "    </tr>\n",
       "    <tr>\n",
       "      <th>13</th>\n",
       "      <td>Ethiopia</td>\n",
       "      <td>584.488333</td>\n",
       "    </tr>\n",
       "    <tr>\n",
       "      <th>14</th>\n",
       "      <td>Gabon</td>\n",
       "      <td>33.915000</td>\n",
       "    </tr>\n",
       "    <tr>\n",
       "      <th>15</th>\n",
       "      <td>Gambia</td>\n",
       "      <td>13.052778</td>\n",
       "    </tr>\n",
       "    <tr>\n",
       "      <th>16</th>\n",
       "      <td>Ghana</td>\n",
       "      <td>508.627586</td>\n",
       "    </tr>\n",
       "    <tr>\n",
       "      <th>17</th>\n",
       "      <td>Guinea</td>\n",
       "      <td>133.696000</td>\n",
       "    </tr>\n",
       "    <tr>\n",
       "      <th>18</th>\n",
       "      <td>Guinea-Bissau</td>\n",
       "      <td>16.581818</td>\n",
       "    </tr>\n",
       "    <tr>\n",
       "      <th>19</th>\n",
       "      <td>Kenya</td>\n",
       "      <td>342.496000</td>\n",
       "    </tr>\n",
       "    <tr>\n",
       "      <th>20</th>\n",
       "      <td>Lesotho</td>\n",
       "      <td>16.456522</td>\n",
       "    </tr>\n",
       "    <tr>\n",
       "      <th>21</th>\n",
       "      <td>Liberia</td>\n",
       "      <td>34.897619</td>\n",
       "    </tr>\n",
       "    <tr>\n",
       "      <th>22</th>\n",
       "      <td>Madagascar</td>\n",
       "      <td>192.856522</td>\n",
       "    </tr>\n",
       "    <tr>\n",
       "      <th>23</th>\n",
       "      <td>Malawi</td>\n",
       "      <td>320.243750</td>\n",
       "    </tr>\n",
       "    <tr>\n",
       "      <th>24</th>\n",
       "      <td>Mali</td>\n",
       "      <td>192.275000</td>\n",
       "    </tr>\n",
       "    <tr>\n",
       "      <th>25</th>\n",
       "      <td>Mauritania</td>\n",
       "      <td>26.418421</td>\n",
       "    </tr>\n",
       "    <tr>\n",
       "      <th>26</th>\n",
       "      <td>Mauritius</td>\n",
       "      <td>112.576087</td>\n",
       "    </tr>\n",
       "    <tr>\n",
       "      <th>27</th>\n",
       "      <td>Morocco</td>\n",
       "      <td>353.014286</td>\n",
       "    </tr>\n",
       "    <tr>\n",
       "      <th>28</th>\n",
       "      <td>Mozambique</td>\n",
       "      <td>254.167742</td>\n",
       "    </tr>\n",
       "    <tr>\n",
       "      <th>29</th>\n",
       "      <td>Namibia</td>\n",
       "      <td>33.016279</td>\n",
       "    </tr>\n",
       "    <tr>\n",
       "      <th>30</th>\n",
       "      <td>Niger</td>\n",
       "      <td>201.879070</td>\n",
       "    </tr>\n",
       "    <tr>\n",
       "      <th>31</th>\n",
       "      <td>Nigeria</td>\n",
       "      <td>2668.901639</td>\n",
       "    </tr>\n",
       "    <tr>\n",
       "      <th>32</th>\n",
       "      <td>Rwanda</td>\n",
       "      <td>206.900000</td>\n",
       "    </tr>\n",
       "    <tr>\n",
       "      <th>33</th>\n",
       "      <td>Sao Tome and Principe</td>\n",
       "      <td>3.972414</td>\n",
       "    </tr>\n",
       "    <tr>\n",
       "      <th>34</th>\n",
       "      <td>Senegal</td>\n",
       "      <td>95.026923</td>\n",
       "    </tr>\n",
       "    <tr>\n",
       "      <th>35</th>\n",
       "      <td>Sierra Leone</td>\n",
       "      <td>95.474000</td>\n",
       "    </tr>\n",
       "    <tr>\n",
       "      <th>36</th>\n",
       "      <td>South Africa</td>\n",
       "      <td>772.789333</td>\n",
       "    </tr>\n",
       "    <tr>\n",
       "      <th>37</th>\n",
       "      <td>Sudan</td>\n",
       "      <td>558.488889</td>\n",
       "    </tr>\n",
       "    <tr>\n",
       "      <th>38</th>\n",
       "      <td>Swaziland</td>\n",
       "      <td>149.202381</td>\n",
       "    </tr>\n",
       "    <tr>\n",
       "      <th>39</th>\n",
       "      <td>Togo</td>\n",
       "      <td>57.419643</td>\n",
       "    </tr>\n",
       "    <tr>\n",
       "      <th>40</th>\n",
       "      <td>Tunisia</td>\n",
       "      <td>151.988525</td>\n",
       "    </tr>\n",
       "    <tr>\n",
       "      <th>41</th>\n",
       "      <td>Uganda</td>\n",
       "      <td>497.180357</td>\n",
       "    </tr>\n",
       "    <tr>\n",
       "      <th>42</th>\n",
       "      <td>United Republic of Tanzania</td>\n",
       "      <td>421.268354</td>\n",
       "    </tr>\n",
       "    <tr>\n",
       "      <th>43</th>\n",
       "      <td>Zambia</td>\n",
       "      <td>172.293750</td>\n",
       "    </tr>\n",
       "    <tr>\n",
       "      <th>44</th>\n",
       "      <td>Zimbabwe</td>\n",
       "      <td>114.556250</td>\n",
       "    </tr>\n",
       "  </tbody>\n",
       "</table>\n",
       "</div>"
      ],
      "text/plain": [
       "                        Country        Value\n",
       "0                       Algeria   325.258621\n",
       "1                        Angola   362.035185\n",
       "2                         Benin   149.274576\n",
       "3                      Botswana    14.141176\n",
       "4                  Burkina Faso   232.858140\n",
       "5                    Cabo Verde     5.024242\n",
       "6                      Cameroon   304.107692\n",
       "7      Central African Republic    55.380000\n",
       "8                          Chad   115.584615\n",
       "9                         Congo    51.582000\n",
       "10                Cote d'Ivoire   285.134375\n",
       "11                     Djibouti     3.027273\n",
       "12                        Egypt  1253.568571\n",
       "13                     Ethiopia   584.488333\n",
       "14                        Gabon    33.915000\n",
       "15                       Gambia    13.052778\n",
       "16                        Ghana   508.627586\n",
       "17                       Guinea   133.696000\n",
       "18                Guinea-Bissau    16.581818\n",
       "19                        Kenya   342.496000\n",
       "20                      Lesotho    16.456522\n",
       "21                      Liberia    34.897619\n",
       "22                   Madagascar   192.856522\n",
       "23                       Malawi   320.243750\n",
       "24                         Mali   192.275000\n",
       "25                   Mauritania    26.418421\n",
       "26                    Mauritius   112.576087\n",
       "27                      Morocco   353.014286\n",
       "28                   Mozambique   254.167742\n",
       "29                      Namibia    33.016279\n",
       "30                        Niger   201.879070\n",
       "31                      Nigeria  2668.901639\n",
       "32                       Rwanda   206.900000\n",
       "33        Sao Tome and Principe     3.972414\n",
       "34                      Senegal    95.026923\n",
       "35                 Sierra Leone    95.474000\n",
       "36                 South Africa   772.789333\n",
       "37                        Sudan   558.488889\n",
       "38                    Swaziland   149.202381\n",
       "39                         Togo    57.419643\n",
       "40                      Tunisia   151.988525\n",
       "41                       Uganda   497.180357\n",
       "42  United Republic of Tanzania   421.268354\n",
       "43                       Zambia   172.293750\n",
       "44                     Zimbabwe   114.556250"
      ]
     },
     "execution_count": 15,
     "metadata": {},
     "output_type": "execute_result"
    }
   ],
   "source": [
    "#creating a new dataframe called country production... it contains the average production value for each country\n",
    "country_prod = pd.DataFrame(prod_df.groupby('Country')['Value'].mean()).reset_index(inplace=False) \n",
    "country_prod"
   ]
  },
  {
   "cell_type": "code",
   "execution_count": 16,
   "id": "858cfc60",
   "metadata": {},
   "outputs": [
    {
     "data": {
      "image/png": "[encoded data removed]",
      "text/plain": [
       "<Figure size 1440x648 with 1 Axes>"
      ]
     },
     "metadata": {
      "needs_background": "light"
     },
     "output_type": "display_data"
    }
   ],
   "source": [
    "country_sorted = country_prod.sort_values('Value', ascending=False)\n",
    "plt.figure(figsize = [20, 9])\n",
    "plt.xticks(rotation=90)\n",
    "sb.barplot('Country', 'Value', data = country_sorted, color = base_color)\n",
    "#sb.barplot(country_prod['Country'], country_prod['Value'], color = base_color)\n",
    "plt.xlabel('Country', fontsize = 10, fontweight = 'bold')\n",
    "plt.ylabel('Value', fontsize = 10, fontweight = 'bold')\n",
    "plt.title('Average Production by Country', fontsize = 20, fontweight = 'bold')\n",
    "plt.show();"
   ]
  },
  {
   "cell_type": "code",
   "execution_count": 17,
   "id": "92aa0167",
   "metadata": {},
   "outputs": [],
   "source": [
    "item_prod= pd.DataFrame(prod_df.groupby('Item')['Value'].mean()).reset_index(inplace=False)"
   ]
  },
  {
   "cell_type": "code",
   "execution_count": 18,
   "id": "ebbc2966",
   "metadata": {},
   "outputs": [
    {
     "data": {
      "image/png": "[encoded data removed]",
      "text/plain": [
       "<Figure size 1440x648 with 1 Axes>"
      ]
     },
     "metadata": {
      "needs_background": "light"
     },
     "output_type": "display_data"
    }
   ],
   "source": [
    "item_sorted= item_prod.sort_values('Value', ascending=False)\n",
    "plt.figure(figsize = [20, 9])\n",
    "plt.xticks(rotation=90)\n",
    "sb.barplot('Item', 'Value', data = item_sorted, color = base_color)\n",
    "plt.xlabel('Item', fontsize = 10, fontweight = 'bold')\n",
    "plt.ylabel('Value', fontsize = 10, fontweight = 'bold')\n",
    "plt.title('Average Value of Food Item Produced in Africa', fontsize = 20, fontweight = 'bold')\n",
    "plt.show();"
   ]
  },
  {
   "cell_type": "markdown",
   "id": "7f20fcf0",
   "metadata": {},
   "source": [
    "## Average food supply by each country"
   ]
  },
  {
   "cell_type": "code",
   "execution_count": 19,
   "id": "19542fe5",
   "metadata": {},
   "outputs": [
    {
     "data": {
      "text/html": [
       "<div>\n",
       "<style scoped>\n",
       "    .dataframe tbody tr th:only-of-type {\n",
       "        vertical-align: middle;\n",
       "    }\n",
       "\n",
       "    .dataframe tbody tr th {\n",
       "        vertical-align: top;\n",
       "    }\n",
       "\n",
       "    .dataframe thead th {\n",
       "        text-align: right;\n",
       "    }\n",
       "</style>\n",
       "<table border=\"1\" class=\"dataframe\">\n",
       "  <thead>\n",
       "    <tr style=\"text-align: right;\">\n",
       "      <th></th>\n",
       "      <th>Country</th>\n",
       "      <th>Value</th>\n",
       "    </tr>\n",
       "  </thead>\n",
       "  <tbody>\n",
       "    <tr>\n",
       "      <th>0</th>\n",
       "      <td>Algeria</td>\n",
       "      <td>3111.8</td>\n",
       "    </tr>\n",
       "    <tr>\n",
       "      <th>1</th>\n",
       "      <td>Angola</td>\n",
       "      <td>2255.6</td>\n",
       "    </tr>\n",
       "    <tr>\n",
       "      <th>2</th>\n",
       "      <td>Benin</td>\n",
       "      <td>2537.8</td>\n",
       "    </tr>\n",
       "    <tr>\n",
       "      <th>3</th>\n",
       "      <td>Botswana</td>\n",
       "      <td>2226.3</td>\n",
       "    </tr>\n",
       "    <tr>\n",
       "      <th>4</th>\n",
       "      <td>Burkina Faso</td>\n",
       "      <td>2607.2</td>\n",
       "    </tr>\n",
       "    <tr>\n",
       "      <th>5</th>\n",
       "      <td>Cabo Verde</td>\n",
       "      <td>2551.4</td>\n",
       "    </tr>\n",
       "    <tr>\n",
       "      <th>6</th>\n",
       "      <td>Cameroon</td>\n",
       "      <td>2460.3</td>\n",
       "    </tr>\n",
       "    <tr>\n",
       "      <th>7</th>\n",
       "      <td>Central African Republic</td>\n",
       "      <td>2071.9</td>\n",
       "    </tr>\n",
       "    <tr>\n",
       "      <th>8</th>\n",
       "      <td>Chad</td>\n",
       "      <td>2051.1</td>\n",
       "    </tr>\n",
       "    <tr>\n",
       "      <th>9</th>\n",
       "      <td>Congo</td>\n",
       "      <td>2153.0</td>\n",
       "    </tr>\n",
       "    <tr>\n",
       "      <th>10</th>\n",
       "      <td>Cote d'Ivoire</td>\n",
       "      <td>2766.6</td>\n",
       "    </tr>\n",
       "    <tr>\n",
       "      <th>11</th>\n",
       "      <td>Djibouti</td>\n",
       "      <td>2416.5</td>\n",
       "    </tr>\n",
       "    <tr>\n",
       "      <th>12</th>\n",
       "      <td>Egypt</td>\n",
       "      <td>3458.0</td>\n",
       "    </tr>\n",
       "    <tr>\n",
       "      <th>13</th>\n",
       "      <td>Ethiopia</td>\n",
       "      <td>2029.2</td>\n",
       "    </tr>\n",
       "    <tr>\n",
       "      <th>14</th>\n",
       "      <td>Gabon</td>\n",
       "      <td>2729.9</td>\n",
       "    </tr>\n",
       "    <tr>\n",
       "      <th>15</th>\n",
       "      <td>Gambia</td>\n",
       "      <td>2569.5</td>\n",
       "    </tr>\n",
       "    <tr>\n",
       "      <th>16</th>\n",
       "      <td>Ghana</td>\n",
       "      <td>2918.0</td>\n",
       "    </tr>\n",
       "    <tr>\n",
       "      <th>17</th>\n",
       "      <td>Guinea</td>\n",
       "      <td>2518.0</td>\n",
       "    </tr>\n",
       "    <tr>\n",
       "      <th>18</th>\n",
       "      <td>Guinea-Bissau</td>\n",
       "      <td>2296.3</td>\n",
       "    </tr>\n",
       "    <tr>\n",
       "      <th>19</th>\n",
       "      <td>Kenya</td>\n",
       "      <td>2145.3</td>\n",
       "    </tr>\n",
       "    <tr>\n",
       "      <th>20</th>\n",
       "      <td>Lesotho</td>\n",
       "      <td>2558.8</td>\n",
       "    </tr>\n",
       "    <tr>\n",
       "      <th>21</th>\n",
       "      <td>Liberia</td>\n",
       "      <td>2182.7</td>\n",
       "    </tr>\n",
       "    <tr>\n",
       "      <th>22</th>\n",
       "      <td>Madagascar</td>\n",
       "      <td>2060.8</td>\n",
       "    </tr>\n",
       "    <tr>\n",
       "      <th>23</th>\n",
       "      <td>Malawi</td>\n",
       "      <td>2292.5</td>\n",
       "    </tr>\n",
       "    <tr>\n",
       "      <th>24</th>\n",
       "      <td>Mali</td>\n",
       "      <td>2750.2</td>\n",
       "    </tr>\n",
       "    <tr>\n",
       "      <th>25</th>\n",
       "      <td>Mauritania</td>\n",
       "      <td>2744.3</td>\n",
       "    </tr>\n",
       "    <tr>\n",
       "      <th>26</th>\n",
       "      <td>Mauritius</td>\n",
       "      <td>3054.3</td>\n",
       "    </tr>\n",
       "    <tr>\n",
       "      <th>27</th>\n",
       "      <td>Morocco</td>\n",
       "      <td>3296.7</td>\n",
       "    </tr>\n",
       "    <tr>\n",
       "      <th>28</th>\n",
       "      <td>Mozambique</td>\n",
       "      <td>2170.2</td>\n",
       "    </tr>\n",
       "    <tr>\n",
       "      <th>29</th>\n",
       "      <td>Namibia</td>\n",
       "      <td>2160.2</td>\n",
       "    </tr>\n",
       "    <tr>\n",
       "      <th>30</th>\n",
       "      <td>Niger</td>\n",
       "      <td>2502.4</td>\n",
       "    </tr>\n",
       "    <tr>\n",
       "      <th>31</th>\n",
       "      <td>Nigeria</td>\n",
       "      <td>2698.8</td>\n",
       "    </tr>\n",
       "    <tr>\n",
       "      <th>32</th>\n",
       "      <td>Rwanda</td>\n",
       "      <td>2130.9</td>\n",
       "    </tr>\n",
       "    <tr>\n",
       "      <th>33</th>\n",
       "      <td>Sao Tome and Principe</td>\n",
       "      <td>2446.2</td>\n",
       "    </tr>\n",
       "    <tr>\n",
       "      <th>34</th>\n",
       "      <td>Senegal</td>\n",
       "      <td>2378.4</td>\n",
       "    </tr>\n",
       "    <tr>\n",
       "      <th>35</th>\n",
       "      <td>Sierra Leone</td>\n",
       "      <td>2229.1</td>\n",
       "    </tr>\n",
       "    <tr>\n",
       "      <th>36</th>\n",
       "      <td>South Africa</td>\n",
       "      <td>2962.9</td>\n",
       "    </tr>\n",
       "    <tr>\n",
       "      <th>37</th>\n",
       "      <td>Sudan</td>\n",
       "      <td>2323.8</td>\n",
       "    </tr>\n",
       "    <tr>\n",
       "      <th>38</th>\n",
       "      <td>Swaziland</td>\n",
       "      <td>2317.1</td>\n",
       "    </tr>\n",
       "    <tr>\n",
       "      <th>39</th>\n",
       "      <td>Togo</td>\n",
       "      <td>2333.9</td>\n",
       "    </tr>\n",
       "    <tr>\n",
       "      <th>40</th>\n",
       "      <td>Tunisia</td>\n",
       "      <td>3305.5</td>\n",
       "    </tr>\n",
       "    <tr>\n",
       "      <th>41</th>\n",
       "      <td>Uganda</td>\n",
       "      <td>2220.5</td>\n",
       "    </tr>\n",
       "    <tr>\n",
       "      <th>42</th>\n",
       "      <td>United Republic of Tanzania</td>\n",
       "      <td>2155.0</td>\n",
       "    </tr>\n",
       "    <tr>\n",
       "      <th>43</th>\n",
       "      <td>Zambia</td>\n",
       "      <td>1870.1</td>\n",
       "    </tr>\n",
       "    <tr>\n",
       "      <th>44</th>\n",
       "      <td>Zimbabwe</td>\n",
       "      <td>2120.9</td>\n",
       "    </tr>\n",
       "  </tbody>\n",
       "</table>\n",
       "</div>"
      ],
      "text/plain": [
       "                        Country   Value\n",
       "0                       Algeria  3111.8\n",
       "1                        Angola  2255.6\n",
       "2                         Benin  2537.8\n",
       "3                      Botswana  2226.3\n",
       "4                  Burkina Faso  2607.2\n",
       "5                    Cabo Verde  2551.4\n",
       "6                      Cameroon  2460.3\n",
       "7      Central African Republic  2071.9\n",
       "8                          Chad  2051.1\n",
       "9                         Congo  2153.0\n",
       "10                Cote d'Ivoire  2766.6\n",
       "11                     Djibouti  2416.5\n",
       "12                        Egypt  3458.0\n",
       "13                     Ethiopia  2029.2\n",
       "14                        Gabon  2729.9\n",
       "15                       Gambia  2569.5\n",
       "16                        Ghana  2918.0\n",
       "17                       Guinea  2518.0\n",
       "18                Guinea-Bissau  2296.3\n",
       "19                        Kenya  2145.3\n",
       "20                      Lesotho  2558.8\n",
       "21                      Liberia  2182.7\n",
       "22                   Madagascar  2060.8\n",
       "23                       Malawi  2292.5\n",
       "24                         Mali  2750.2\n",
       "25                   Mauritania  2744.3\n",
       "26                    Mauritius  3054.3\n",
       "27                      Morocco  3296.7\n",
       "28                   Mozambique  2170.2\n",
       "29                      Namibia  2160.2\n",
       "30                        Niger  2502.4\n",
       "31                      Nigeria  2698.8\n",
       "32                       Rwanda  2130.9\n",
       "33        Sao Tome and Principe  2446.2\n",
       "34                      Senegal  2378.4\n",
       "35                 Sierra Leone  2229.1\n",
       "36                 South Africa  2962.9\n",
       "37                        Sudan  2323.8\n",
       "38                    Swaziland  2317.1\n",
       "39                         Togo  2333.9\n",
       "40                      Tunisia  3305.5\n",
       "41                       Uganda  2220.5\n",
       "42  United Republic of Tanzania  2155.0\n",
       "43                       Zambia  1870.1\n",
       "44                     Zimbabwe  2120.9"
      ]
     },
     "execution_count": 19,
     "metadata": {},
     "output_type": "execute_result"
    }
   ],
   "source": [
    "country_supply = pd.DataFrame(supply.groupby('Country')['Value'].mean()).reset_index(inplace=False)\n",
    "country_supply"
   ]
  },
  {
   "cell_type": "code",
   "execution_count": 20,
   "id": "a91bcb7b",
   "metadata": {},
   "outputs": [
    {
     "data": {
      "image/png": "[encoded data removed]",
      "text/plain": [
       "<Figure size 1296x432 with 1 Axes>"
      ]
     },
     "metadata": {
      "needs_background": "light"
     },
     "output_type": "display_data"
    }
   ],
   "source": [
    "Average_supply = country_supply.sort_values('Value', ascending=False)\n",
    "fig= plt.figure(figsize=(18, 6))\n",
    "plt.bar('Country','Value', data = Average_supply, color = base_color)\n",
    "plt.title('Average Food Supply by Country', fontsize=20, fontweight = 'bold')\n",
    "plt.xlabel('Country', fontsize=10, fontweight = 'bold')\n",
    "plt.ylabel('Value', fontsize=10, fontweight = 'bold')\n",
    "plt.xticks(rotation=90)\n",
    "plt.show();"
   ]
  },
  {
   "cell_type": "markdown",
   "id": "858d3029",
   "metadata": {},
   "source": [
    "## Trends in food supply over the years"
   ]
  },
  {
   "cell_type": "code",
   "execution_count": 21,
   "id": "cc20a21b",
   "metadata": {},
   "outputs": [
    {
     "data": {
      "image/png": "[encoded data removed]",
      "text/plain": [
       "<Figure size 1080x504 with 1 Axes>"
      ]
     },
     "metadata": {
      "needs_background": "light"
     },
     "output_type": "display_data"
    }
   ],
   "source": [
    "#plotting line chart to show trends\n",
    "fig= plt.figure(figsize=(15, 7))\n",
    "plt.plot(supply_df.groupby('Year')['Value'].mean(), marker='d', color = base_color)\n",
    "plt.title('Average Food Supply by Year', fontsize = 20, fontweight = 'bold')\n",
    "plt.xlabel('Year', fontsize = 10, fontweight = 'bold')\n",
    "plt.ylabel('Value', fontsize = 10, fontweight = 'bold')\n",
    "plt.grid()\n",
    "plt.show();"
   ]
  },
  {
   "cell_type": "markdown",
   "id": "1d954b49",
   "metadata": {},
   "source": [
    "## Comparison between average food consumption and production for each year"
   ]
  },
  {
   "cell_type": "code",
   "execution_count": 22,
   "id": "f95fa01a",
   "metadata": {},
   "outputs": [
    {
     "data": {
      "text/html": [
       "<div>\n",
       "<style scoped>\n",
       "    .dataframe tbody tr th:only-of-type {\n",
       "        vertical-align: middle;\n",
       "    }\n",
       "\n",
       "    .dataframe tbody tr th {\n",
       "        vertical-align: top;\n",
       "    }\n",
       "\n",
       "    .dataframe thead th {\n",
       "        text-align: right;\n",
       "    }\n",
       "</style>\n",
       "<table border=\"1\" class=\"dataframe\">\n",
       "  <thead>\n",
       "    <tr style=\"text-align: right;\">\n",
       "      <th></th>\n",
       "      <th>Year</th>\n",
       "      <th>Value</th>\n",
       "    </tr>\n",
       "  </thead>\n",
       "  <tbody>\n",
       "    <tr>\n",
       "      <th>0</th>\n",
       "      <td>2004</td>\n",
       "      <td>286.767301</td>\n",
       "    </tr>\n",
       "    <tr>\n",
       "      <th>1</th>\n",
       "      <td>2005</td>\n",
       "      <td>298.986592</td>\n",
       "    </tr>\n",
       "    <tr>\n",
       "      <th>2</th>\n",
       "      <td>2006</td>\n",
       "      <td>310.814014</td>\n",
       "    </tr>\n",
       "    <tr>\n",
       "      <th>3</th>\n",
       "      <td>2007</td>\n",
       "      <td>305.215830</td>\n",
       "    </tr>\n",
       "    <tr>\n",
       "      <th>4</th>\n",
       "      <td>2008</td>\n",
       "      <td>318.686851</td>\n",
       "    </tr>\n",
       "    <tr>\n",
       "      <th>5</th>\n",
       "      <td>2009</td>\n",
       "      <td>323.040657</td>\n",
       "    </tr>\n",
       "    <tr>\n",
       "      <th>6</th>\n",
       "      <td>2010</td>\n",
       "      <td>340.166955</td>\n",
       "    </tr>\n",
       "    <tr>\n",
       "      <th>7</th>\n",
       "      <td>2011</td>\n",
       "      <td>351.303633</td>\n",
       "    </tr>\n",
       "    <tr>\n",
       "      <th>8</th>\n",
       "      <td>2012</td>\n",
       "      <td>364.831816</td>\n",
       "    </tr>\n",
       "    <tr>\n",
       "      <th>9</th>\n",
       "      <td>2013</td>\n",
       "      <td>378.227568</td>\n",
       "    </tr>\n",
       "  </tbody>\n",
       "</table>\n",
       "</div>"
      ],
      "text/plain": [
       "   Year       Value\n",
       "0  2004  286.767301\n",
       "1  2005  298.986592\n",
       "2  2006  310.814014\n",
       "3  2007  305.215830\n",
       "4  2008  318.686851\n",
       "5  2009  323.040657\n",
       "6  2010  340.166955\n",
       "7  2011  351.303633\n",
       "8  2012  364.831816\n",
       "9  2013  378.227568"
      ]
     },
     "execution_count": 22,
     "metadata": {},
     "output_type": "execute_result"
    }
   ],
   "source": [
    "#creating a new dataframe that shows the average number of food item produced each year\n",
    "food_pro = pd.DataFrame(prod_df.groupby('Year')['Value'].mean()).reset_index(inplace= False)\n",
    "food_pro"
   ]
  },
  {
   "cell_type": "code",
   "execution_count": 23,
   "id": "2d1b01ff",
   "metadata": {},
   "outputs": [],
   "source": [
    "#renaming the value column to reflect what the new column stands for\n",
    "food_pro.rename(columns = {'Value': 'Avg_food_produced'}, inplace=True)"
   ]
  },
  {
   "cell_type": "code",
   "execution_count": 24,
   "id": "5210be33",
   "metadata": {},
   "outputs": [
    {
     "data": {
      "text/html": [
       "<div>\n",
       "<style scoped>\n",
       "    .dataframe tbody tr th:only-of-type {\n",
       "        vertical-align: middle;\n",
       "    }\n",
       "\n",
       "    .dataframe tbody tr th {\n",
       "        vertical-align: top;\n",
       "    }\n",
       "\n",
       "    .dataframe thead th {\n",
       "        text-align: right;\n",
       "    }\n",
       "</style>\n",
       "<table border=\"1\" class=\"dataframe\">\n",
       "  <thead>\n",
       "    <tr style=\"text-align: right;\">\n",
       "      <th></th>\n",
       "      <th>Year</th>\n",
       "      <th>Value</th>\n",
       "    </tr>\n",
       "  </thead>\n",
       "  <tbody>\n",
       "    <tr>\n",
       "      <th>0</th>\n",
       "      <td>2004</td>\n",
       "      <td>2394.222222</td>\n",
       "    </tr>\n",
       "    <tr>\n",
       "      <th>1</th>\n",
       "      <td>2005</td>\n",
       "      <td>2409.288889</td>\n",
       "    </tr>\n",
       "    <tr>\n",
       "      <th>2</th>\n",
       "      <td>2006</td>\n",
       "      <td>2430.800000</td>\n",
       "    </tr>\n",
       "    <tr>\n",
       "      <th>3</th>\n",
       "      <td>2007</td>\n",
       "      <td>2447.755556</td>\n",
       "    </tr>\n",
       "    <tr>\n",
       "      <th>4</th>\n",
       "      <td>2008</td>\n",
       "      <td>2460.755556</td>\n",
       "    </tr>\n",
       "    <tr>\n",
       "      <th>5</th>\n",
       "      <td>2009</td>\n",
       "      <td>2482.222222</td>\n",
       "    </tr>\n",
       "    <tr>\n",
       "      <th>6</th>\n",
       "      <td>2010</td>\n",
       "      <td>2497.400000</td>\n",
       "    </tr>\n",
       "    <tr>\n",
       "      <th>7</th>\n",
       "      <td>2011</td>\n",
       "      <td>2515.422222</td>\n",
       "    </tr>\n",
       "    <tr>\n",
       "      <th>8</th>\n",
       "      <td>2012</td>\n",
       "      <td>2527.644444</td>\n",
       "    </tr>\n",
       "    <tr>\n",
       "      <th>9</th>\n",
       "      <td>2013</td>\n",
       "      <td>2532.244444</td>\n",
       "    </tr>\n",
       "  </tbody>\n",
       "</table>\n",
       "</div>"
      ],
      "text/plain": [
       "   Year        Value\n",
       "0  2004  2394.222222\n",
       "1  2005  2409.288889\n",
       "2  2006  2430.800000\n",
       "3  2007  2447.755556\n",
       "4  2008  2460.755556\n",
       "5  2009  2482.222222\n",
       "6  2010  2497.400000\n",
       "7  2011  2515.422222\n",
       "8  2012  2527.644444\n",
       "9  2013  2532.244444"
      ]
     },
     "execution_count": 24,
     "metadata": {},
     "output_type": "execute_result"
    }
   ],
   "source": [
    "#creating a new dataframe that shows the average number of food item supplied each year\n",
    "food_supply = pd.DataFrame(supply_df.groupby('Year')['Value'].mean()).reset_index(inplace= False)\n",
    "food_supply"
   ]
  },
  {
   "cell_type": "code",
   "execution_count": 25,
   "id": "ce96930d",
   "metadata": {},
   "outputs": [],
   "source": [
    "#renaming the value column to reflect what the new column stands for\n",
    "food_supply.rename(columns = {'Value': 'Avg_food_supplied'}, inplace=True)"
   ]
  },
  {
   "cell_type": "markdown",
   "id": "cb1d70de",
   "metadata": {},
   "source": [
    "### Merging the new dataframes"
   ]
  },
  {
   "cell_type": "code",
   "execution_count": 26,
   "id": "2a476639",
   "metadata": {},
   "outputs": [
    {
     "data": {
      "text/html": [
       "<div>\n",
       "<style scoped>\n",
       "    .dataframe tbody tr th:only-of-type {\n",
       "        vertical-align: middle;\n",
       "    }\n",
       "\n",
       "    .dataframe tbody tr th {\n",
       "        vertical-align: top;\n",
       "    }\n",
       "\n",
       "    .dataframe thead th {\n",
       "        text-align: right;\n",
       "    }\n",
       "</style>\n",
       "<table border=\"1\" class=\"dataframe\">\n",
       "  <thead>\n",
       "    <tr style=\"text-align: right;\">\n",
       "      <th></th>\n",
       "      <th>Year</th>\n",
       "      <th>Avg_food_produced</th>\n",
       "      <th>Avg_food_supplied</th>\n",
       "    </tr>\n",
       "  </thead>\n",
       "  <tbody>\n",
       "    <tr>\n",
       "      <th>0</th>\n",
       "      <td>2004</td>\n",
       "      <td>286.767301</td>\n",
       "      <td>2394.222222</td>\n",
       "    </tr>\n",
       "    <tr>\n",
       "      <th>1</th>\n",
       "      <td>2005</td>\n",
       "      <td>298.986592</td>\n",
       "      <td>2409.288889</td>\n",
       "    </tr>\n",
       "    <tr>\n",
       "      <th>2</th>\n",
       "      <td>2006</td>\n",
       "      <td>310.814014</td>\n",
       "      <td>2430.800000</td>\n",
       "    </tr>\n",
       "    <tr>\n",
       "      <th>3</th>\n",
       "      <td>2007</td>\n",
       "      <td>305.215830</td>\n",
       "      <td>2447.755556</td>\n",
       "    </tr>\n",
       "    <tr>\n",
       "      <th>4</th>\n",
       "      <td>2008</td>\n",
       "      <td>318.686851</td>\n",
       "      <td>2460.755556</td>\n",
       "    </tr>\n",
       "    <tr>\n",
       "      <th>5</th>\n",
       "      <td>2009</td>\n",
       "      <td>323.040657</td>\n",
       "      <td>2482.222222</td>\n",
       "    </tr>\n",
       "    <tr>\n",
       "      <th>6</th>\n",
       "      <td>2010</td>\n",
       "      <td>340.166955</td>\n",
       "      <td>2497.400000</td>\n",
       "    </tr>\n",
       "    <tr>\n",
       "      <th>7</th>\n",
       "      <td>2011</td>\n",
       "      <td>351.303633</td>\n",
       "      <td>2515.422222</td>\n",
       "    </tr>\n",
       "    <tr>\n",
       "      <th>8</th>\n",
       "      <td>2012</td>\n",
       "      <td>364.831816</td>\n",
       "      <td>2527.644444</td>\n",
       "    </tr>\n",
       "    <tr>\n",
       "      <th>9</th>\n",
       "      <td>2013</td>\n",
       "      <td>378.227568</td>\n",
       "      <td>2532.244444</td>\n",
       "    </tr>\n",
       "  </tbody>\n",
       "</table>\n",
       "</div>"
      ],
      "text/plain": [
       "   Year  Avg_food_produced  Avg_food_supplied\n",
       "0  2004         286.767301        2394.222222\n",
       "1  2005         298.986592        2409.288889\n",
       "2  2006         310.814014        2430.800000\n",
       "3  2007         305.215830        2447.755556\n",
       "4  2008         318.686851        2460.755556\n",
       "5  2009         323.040657        2482.222222\n",
       "6  2010         340.166955        2497.400000\n",
       "7  2011         351.303633        2515.422222\n",
       "8  2012         364.831816        2527.644444\n",
       "9  2013         378.227568        2532.244444"
      ]
     },
     "execution_count": 26,
     "metadata": {},
     "output_type": "execute_result"
    }
   ],
   "source": [
    "prod_n_sup = pd.merge(food_pro, food_supply, on='Year')\n",
    "prod_n_sup"
   ]
  },
  {
   "cell_type": "markdown",
   "id": "d0094e78",
   "metadata": {},
   "source": [
    "### Creating a chart of new dataframe"
   ]
  },
  {
   "cell_type": "code",
   "execution_count": 27,
   "id": "23f850e2",
   "metadata": {},
   "outputs": [
    {
     "data": {
      "image/png": "[encoded data removed]",
      "text/plain": [
       "<Figure size 1440x648 with 1 Axes>"
      ]
     },
     "metadata": {
      "needs_background": "light"
     },
     "output_type": "display_data"
    }
   ],
   "source": [
    "fig= plt.figure(figsize=(20,9))\n",
    "\n",
    "ax = fig.add_subplot() \n",
    "ax.plot(prod_n_sup['Year'],prod_n_sup['Avg_food_produced'],marker='d', label=\"Food produced\", color = base_color)\n",
    "ax.plot(prod_n_sup['Year'],prod_n_sup['Avg_food_supplied'],marker='o', label=\"Food supplied\", color = 'yellow')\n",
    "\n",
    "ax.set_ylabel('Values', fontsize = 10, fontweight = 'bold')\n",
    "ax.set_title('Average Food Production vs Supply for Each Year', fontsize = 20, fontweight = 'bold')\n",
    "ax.set_xlabel('Year', fontsize = 10, fontweight = 'bold')\n",
    "ax.legend()\n",
    "plt.grid()\n",
    "plt.show();"
   ]
  },
  {
   "cell_type": "markdown",
   "id": "6084906b",
   "metadata": {},
   "source": [
    "### Average and Median Food Production"
   ]
  },
  {
   "cell_type": "code",
   "execution_count": 28,
   "id": "12f16b41",
   "metadata": {},
   "outputs": [
    {
     "name": "stdout",
     "output_type": "stream",
     "text": [
      " The average number of food produced in Africa from 2004 to 2013 is 327.79kt\n",
      " The median food production value is 18.0kt\n"
     ]
    }
   ],
   "source": [
    "#average and median food production\n",
    "average_food_production= prod_df['Value'].mean()\n",
    "print(f\" The average number of food produced in Africa from 2004 to 2013 is {round(average_food_production,2)}kt\")\n",
    "\n",
    "median_food_production= prod_df['Value'].median()\n",
    "print(f\" The median food production value is {median_food_production}kt\")"
   ]
  },
  {
   "cell_type": "markdown",
   "id": "b72f3190",
   "metadata": {},
   "source": [
    "### Outliers"
   ]
  },
  {
   "cell_type": "code",
   "execution_count": 29,
   "id": "553fa46e",
   "metadata": {},
   "outputs": [
    {
     "data": {
      "image/png": "[encoded data removed]",
      "text/plain": [
       "<Figure size 720x432 with 1 Axes>"
      ]
     },
     "metadata": {
      "needs_background": "light"
     },
     "output_type": "display_data"
    }
   ],
   "source": [
    "#boxplot for food production data\n",
    "\n",
    "plt.figure(figsize = [10, 6]) \n",
    "sb_p = sb.boxplot(x = 'Year', y = 'Value', data = prod_df)\n",
    "plt.xlabel('Year', fontsize = 10, fontweight = 'bold')\n",
    "plt.ylabel('Value', fontsize = 10, fontweight = 'bold')\n",
    "plt.grid()\n",
    "plt.show();"
   ]
  },
  {
   "cell_type": "code",
   "execution_count": 30,
   "id": "b371d4f6",
   "metadata": {},
   "outputs": [
    {
     "data": {
      "image/png": "[encoded data removed]",
      "text/plain": [
       "<Figure size 720x432 with 1 Axes>"
      ]
     },
     "metadata": {
      "needs_background": "light"
     },
     "output_type": "display_data"
    }
   ],
   "source": [
    "#box plot for food supply dataset\n",
    "\n",
    "plt.figure(figsize = [10, 6])\n",
    "sb_plot = sb.boxplot(x = 'Year', y = 'Value', data = supply_df, palette = 'Blues')\n",
    "plt.xlabel('Year', fontsize = 10, fontweight = 'bold')\n",
    "plt.ylabel('Value', fontsize = 10, fontweight = 'bold')\n",
    "plt.grid()\n",
    "plt.show();"
   ]
  },
  {
   "cell_type": "markdown",
   "id": "3360ed0b",
   "metadata": {},
   "source": [
    "## Investigating Outliers\n",
    "\n",
    "### Interquartile ranges (IQR)"
   ]
  },
  {
   "cell_type": "code",
   "execution_count": 31,
   "id": "dea15fa4",
   "metadata": {},
   "outputs": [
    {
     "name": "stdout",
     "output_type": "stream",
     "text": [
      "The Q1 value for food production data is 3.0\n",
      "The Q3 value for food production data is 108.0\n",
      "The IQR for food production data is 105.0\n"
     ]
    }
   ],
   "source": [
    "#25th percentile Q1\n",
    "Q1= np.percentile(prod_df['Value'],25)\n",
    "print(f\"The Q1 value for food production data is {Q1}\")\n",
    "\n",
    "#75th percentile Q3\n",
    "Q3= np.percentile(prod_df['Value'],75)\n",
    "print(f\"The Q3 value for food production data is {Q3}\")\n",
    "\n",
    "#Calculating the IQR\n",
    "IQR= Q3-Q1\n",
    "print(f\"The IQR for food production data is {IQR}\")"
   ]
  },
  {
   "cell_type": "code",
   "execution_count": 32,
   "id": "6e99553b",
   "metadata": {},
   "outputs": [
    {
     "name": "stdout",
     "output_type": "stream",
     "text": [
      "lower_bound value for food production data is -154.5\n",
      "upper_bound value for food production data is 265.5\n"
     ]
    }
   ],
   "source": [
    "#calculating lower bound and upper bound values\n",
    "lower_bound= Q1 - (1.5 * IQR)\n",
    "print(f\"lower_bound value for food production data is {lower_bound}\")\n",
    "\n",
    "upper_bound= Q3 + (1.5 * IQR)\n",
    "print(f\"upper_bound value for food production data is {upper_bound}\")"
   ]
  },
  {
   "cell_type": "code",
   "execution_count": 33,
   "id": "a66a724c",
   "metadata": {},
   "outputs": [
    {
     "data": {
      "text/html": [
       "<div>\n",
       "<style scoped>\n",
       "    .dataframe tbody tr th:only-of-type {\n",
       "        vertical-align: middle;\n",
       "    }\n",
       "\n",
       "    .dataframe tbody tr th {\n",
       "        vertical-align: top;\n",
       "    }\n",
       "\n",
       "    .dataframe thead th {\n",
       "        text-align: right;\n",
       "    }\n",
       "</style>\n",
       "<table border=\"1\" class=\"dataframe\">\n",
       "  <thead>\n",
       "    <tr style=\"text-align: right;\">\n",
       "      <th></th>\n",
       "      <th>Country</th>\n",
       "      <th>Item</th>\n",
       "      <th>Year</th>\n",
       "      <th>Value</th>\n",
       "    </tr>\n",
       "  </thead>\n",
       "  <tbody>\n",
       "    <tr>\n",
       "      <th>15448</th>\n",
       "      <td>Nigeria</td>\n",
       "      <td>Cassava and products</td>\n",
       "      <td>2012</td>\n",
       "      <td>54000</td>\n",
       "    </tr>\n",
       "    <tr>\n",
       "      <th>15449</th>\n",
       "      <td>Nigeria</td>\n",
       "      <td>Cassava and products</td>\n",
       "      <td>2013</td>\n",
       "      <td>53000</td>\n",
       "    </tr>\n",
       "    <tr>\n",
       "      <th>15447</th>\n",
       "      <td>Nigeria</td>\n",
       "      <td>Cassava and products</td>\n",
       "      <td>2011</td>\n",
       "      <td>52403</td>\n",
       "    </tr>\n",
       "    <tr>\n",
       "      <th>15442</th>\n",
       "      <td>Nigeria</td>\n",
       "      <td>Cassava and products</td>\n",
       "      <td>2006</td>\n",
       "      <td>45721</td>\n",
       "    </tr>\n",
       "    <tr>\n",
       "      <th>15444</th>\n",
       "      <td>Nigeria</td>\n",
       "      <td>Cassava and products</td>\n",
       "      <td>2008</td>\n",
       "      <td>44582</td>\n",
       "    </tr>\n",
       "    <tr>\n",
       "      <th>...</th>\n",
       "      <td>...</td>\n",
       "      <td>...</td>\n",
       "      <td>...</td>\n",
       "      <td>...</td>\n",
       "    </tr>\n",
       "    <tr>\n",
       "      <th>4285</th>\n",
       "      <td>Chad</td>\n",
       "      <td>Milk - Excluding Butter</td>\n",
       "      <td>2009</td>\n",
       "      <td>266</td>\n",
       "    </tr>\n",
       "    <tr>\n",
       "      <th>18038</th>\n",
       "      <td>South Africa</td>\n",
       "      <td>Sunflowerseed Oil</td>\n",
       "      <td>2012</td>\n",
       "      <td>266</td>\n",
       "    </tr>\n",
       "    <tr>\n",
       "      <th>443</th>\n",
       "      <td>Algeria</td>\n",
       "      <td>Poultry Meat</td>\n",
       "      <td>2007</td>\n",
       "      <td>266</td>\n",
       "    </tr>\n",
       "    <tr>\n",
       "      <th>9741</th>\n",
       "      <td>Kenya</td>\n",
       "      <td>Beer</td>\n",
       "      <td>2005</td>\n",
       "      <td>266</td>\n",
       "    </tr>\n",
       "    <tr>\n",
       "      <th>1466</th>\n",
       "      <td>Benin</td>\n",
       "      <td>Pineapples and products</td>\n",
       "      <td>2010</td>\n",
       "      <td>266</td>\n",
       "    </tr>\n",
       "  </tbody>\n",
       "</table>\n",
       "<p>3696 rows × 4 columns</p>\n",
       "</div>"
      ],
      "text/plain": [
       "            Country                     Item  Year  Value\n",
       "15448       Nigeria     Cassava and products  2012  54000\n",
       "15449       Nigeria     Cassava and products  2013  53000\n",
       "15447       Nigeria     Cassava and products  2011  52403\n",
       "15442       Nigeria     Cassava and products  2006  45721\n",
       "15444       Nigeria     Cassava and products  2008  44582\n",
       "...             ...                      ...   ...    ...\n",
       "4285           Chad  Milk - Excluding Butter  2009    266\n",
       "18038  South Africa        Sunflowerseed Oil  2012    266\n",
       "443         Algeria             Poultry Meat  2007    266\n",
       "9741          Kenya                     Beer  2005    266\n",
       "1466          Benin  Pineapples and products  2010    266\n",
       "\n",
       "[3696 rows x 4 columns]"
      ]
     },
     "execution_count": 33,
     "metadata": {},
     "output_type": "execute_result"
    }
   ],
   "source": [
    "prod_outlier = prod_df[((prod_df['Value'] <= (lower_bound)) | (prod_df['Value'] >= (upper_bound)))]\n",
    "prod_outlier. sort_values('Value', ascending = False)"
   ]
  },
  {
   "cell_type": "markdown",
   "id": "2d60eb0f",
   "metadata": {},
   "source": [
    "- Based on the lower and upper bound calculations, there are 3696 outliers in the food production dataset with extreme outliers which in this case are the food production values in Nigeria for each year"
   ]
  },
  {
   "cell_type": "markdown",
   "id": "f7d86078",
   "metadata": {},
   "source": [
    "### Investigating outliers in the food supply dataset"
   ]
  },
  {
   "cell_type": "code",
   "execution_count": 34,
   "id": "05fca362",
   "metadata": {},
   "outputs": [
    {
     "name": "stdout",
     "output_type": "stream",
     "text": [
      "The Q1 value of the food supply data is 2174.0\n",
      "The Q3 value of the food supply data is 2681.75\n"
     ]
    }
   ],
   "source": [
    "#25th percentile Q1\n",
    "quartile_1 = np.percentile(supply_df['Value'],25)\n",
    "print(f\"The Q1 value of the food supply data is {quartile_1}\")\n",
    "\n",
    "#75th percentile Q3\n",
    "quartile_3 = np.percentile(supply_df['Value'],75)\n",
    "print(f\"The Q3 value of the food supply data is {quartile_3}\")"
   ]
  },
  {
   "cell_type": "code",
   "execution_count": 35,
   "id": "1ede0bdf",
   "metadata": {},
   "outputs": [
    {
     "name": "stdout",
     "output_type": "stream",
     "text": [
      " The IQR value of the food supply data is 507.75\n"
     ]
    }
   ],
   "source": [
    "#Calculating the IQR\n",
    "IQR= quartile_3 - quartile_1\n",
    "print(f\" The IQR value of the food supply data is {IQR}\")"
   ]
  },
  {
   "cell_type": "code",
   "execution_count": 36,
   "id": "349026d5",
   "metadata": {},
   "outputs": [
    {
     "name": "stdout",
     "output_type": "stream",
     "text": [
      "The lower_bound value for the food supply data is 1412.375\n",
      "The upper_bound value for the food supply data is 3443.375\n"
     ]
    }
   ],
   "source": [
    "#calculating lower bound and upper bound values\n",
    "lower_bound= quartile_1 - (1.5 * IQR)\n",
    "print(f\"The lower_bound value for the food supply data is {lower_bound}\")\n",
    "\n",
    "upper_bound= quartile_3 + (1.5 * IQR)\n",
    "print(f\"The upper_bound value for the food supply data is {upper_bound}\")"
   ]
  },
  {
   "cell_type": "markdown",
   "id": "60da7065",
   "metadata": {},
   "source": [
    "- any value below the lower bound or above the upper bound is considered an outlier"
   ]
  },
  {
   "cell_type": "code",
   "execution_count": 37,
   "id": "1b57713e",
   "metadata": {},
   "outputs": [
    {
     "data": {
      "text/html": [
       "<div>\n",
       "<style scoped>\n",
       "    .dataframe tbody tr th:only-of-type {\n",
       "        vertical-align: middle;\n",
       "    }\n",
       "\n",
       "    .dataframe tbody tr th {\n",
       "        vertical-align: top;\n",
       "    }\n",
       "\n",
       "    .dataframe thead th {\n",
       "        text-align: right;\n",
       "    }\n",
       "</style>\n",
       "<table border=\"1\" class=\"dataframe\">\n",
       "  <thead>\n",
       "    <tr style=\"text-align: right;\">\n",
       "      <th></th>\n",
       "      <th>Country</th>\n",
       "      <th>Year</th>\n",
       "      <th>Value</th>\n",
       "    </tr>\n",
       "  </thead>\n",
       "  <tbody>\n",
       "    <tr>\n",
       "      <th>123</th>\n",
       "      <td>Egypt</td>\n",
       "      <td>2007</td>\n",
       "      <td>3445</td>\n",
       "    </tr>\n",
       "    <tr>\n",
       "      <th>124</th>\n",
       "      <td>Egypt</td>\n",
       "      <td>2008</td>\n",
       "      <td>3490</td>\n",
       "    </tr>\n",
       "    <tr>\n",
       "      <th>126</th>\n",
       "      <td>Egypt</td>\n",
       "      <td>2010</td>\n",
       "      <td>3507</td>\n",
       "    </tr>\n",
       "    <tr>\n",
       "      <th>127</th>\n",
       "      <td>Egypt</td>\n",
       "      <td>2011</td>\n",
       "      <td>3549</td>\n",
       "    </tr>\n",
       "    <tr>\n",
       "      <th>128</th>\n",
       "      <td>Egypt</td>\n",
       "      <td>2012</td>\n",
       "      <td>3561</td>\n",
       "    </tr>\n",
       "    <tr>\n",
       "      <th>129</th>\n",
       "      <td>Egypt</td>\n",
       "      <td>2013</td>\n",
       "      <td>3522</td>\n",
       "    </tr>\n",
       "  </tbody>\n",
       "</table>\n",
       "</div>"
      ],
      "text/plain": [
       "    Country  Year  Value\n",
       "123   Egypt  2007   3445\n",
       "124   Egypt  2008   3490\n",
       "126   Egypt  2010   3507\n",
       "127   Egypt  2011   3549\n",
       "128   Egypt  2012   3561\n",
       "129   Egypt  2013   3522"
      ]
     },
     "execution_count": 37,
     "metadata": {},
     "output_type": "execute_result"
    }
   ],
   "source": [
    "sup_outlier = supply_df[((supply_df['Value'] <= (lower_bound)) | (supply_df['Value'] >= (upper_bound)))]\n",
    "sup_outlier"
   ]
  },
  {
   "cell_type": "markdown",
   "id": "7eda81d0",
   "metadata": {},
   "source": [
    "- Although Nigeria produced the highest number of food, Egypt had the most food supplies/consumption in Africa from 2007 till 2013"
   ]
  },
  {
   "cell_type": "code",
   "execution_count": null,
   "id": "b432db4d",
   "metadata": {},
   "outputs": [],
   "source": []
  }
 ],
 "metadata": {
  "kernelspec": {
   "display_name": "Python 3 (ipykernel)",
   "language": "python",
   "name": "python3"
  },
  "language_info": {
   "codemirror_mode": {
    "name": "ipython",
    "version": 3
   },
   "file_extension": ".py",
   "mimetype": "text/x-python",
   "name": "python",
   "nbconvert_exporter": "python",
   "pygments_lexer": "ipython3",
   "version": "3.10.0"
  }
 },
 "nbformat": 4,
 "nbformat_minor": 5
}
